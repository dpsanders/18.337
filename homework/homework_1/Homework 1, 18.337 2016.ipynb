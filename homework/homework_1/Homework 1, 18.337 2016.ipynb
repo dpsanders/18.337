{
 "cells": [
  {
   "cell_type": "markdown",
   "metadata": {},
   "source": [
    "# Homework 1 for 18.337, September 2016\n",
    "    \n",
    "Due before class on **Wednesday 14 September 2016**"
   ]
  },
  {
   "cell_type": "markdown",
   "metadata": {},
   "source": [
    "### 1. Absorbing random walk"
   ]
  },
  {
   "cell_type": "markdown",
   "metadata": {},
   "source": [
    "Consider a simple random walk on the positive integers, starting from site $i=1$. We are interested in the time it takes to reach $i=0$ (the absorption time, first passage time or hitting time). \n",
    "\n",
    "The transition probabilities in the bulk (i.e. away from the boundary) are $p(i+1 \\, | \\, i) = p(i-1 \\, | \\, i) = \\textstyle \\frac{1}{2}$. "
   ]
  },
  {
   "cell_type": "markdown",
   "metadata": {},
   "source": [
    "(1) Write a simple Monte Carlo simulation of the model in Julia. Calculate the mean time over $N$ realizations. Repeat this calculation many times for the same value of $N$. What happens to the means? What does this suggest?"
   ]
  },
  {
   "cell_type": "markdown",
   "metadata": {},
   "source": [
    "(2) Add a reflecting boundary at position $L$: if the particle jumps to the right from $L$, then it hits a mirror and bounces back to $L$. Write a simulation of this system in Julia and in another language and compare the running times to calculate the mean over the same number of simulations. \n",
    "\n",
    "How does the mean hitting time scale with $L$? How does the variance of the mean hitting time scale?"
   ]
  },
  {
   "cell_type": "markdown",
   "metadata": {},
   "source": [
    "(3) To understand this behavior, we need to calculate the complete probability distribution of hitting times. Although this can in principle be done using Monte Carlo (try it!), much better results are obtained using \"exact enumeration\", i.e. we solving the master equation describing the stochastic process in a numerically exact way (why?)\n",
    "\n",
    "Let $P_t(i)$ be the probability that the walker is at site $i$ at time $t$.\n",
    "Find the equations that govern the time evolution of $P_t(i)$, taking care with the absorbing boundary at $i=0$ and the reflecting boundary at $i=L$. A convenient way to model the absorption is that any probability that has arrived at site $i=0$ remains there. The equations are available [here](Evolution equations.ipynb).\n",
    "\n",
    "Implement this in Julia and in another language. [Note that in Julia, (standard) arrays are indexed starting at 1, not 0.]\n",
    "There are various ways to do this, including using [array comprehensions](http://docs.julialang.org/en/release-0.4/manual/arrays/#comprehensions), dense matrices and sparse matrices.\n",
    "What to you think will be the most efficient method? Try to implement several different versions.\n",
    "\n",
    "Work out a test case for a few sites by hand and write a [unit test](http://docs.julialang.org/en/release-0.4/stdlib/test/) to make sure that your code is correct.\n",
    "\n",
    "Use the results of this calculation to find the probability distribution of hitting times, i.e. the probability that is absorbed at each time $t$. Plot this for different $L$. Conclude what happens as $L \\to \\infty$. What is the asymptotic behavior of the distribution?"
   ]
  },
  {
   "cell_type": "markdown",
   "metadata": {},
   "source": [
    "### 2. How fast is Julia?"
   ]
  },
  {
   "cell_type": "markdown",
   "metadata": {},
   "source": [
    "Write an algorithm that is at least this complicated in Julia and in your (former) favorite other language. [Optimize the Julia code](http://docs.julialang.org/en/release-0.4/manual/performance-tips/). How does the run time compare in the two languages for the same calculation?"
   ]
  },
  {
   "cell_type": "markdown",
   "metadata": {},
   "source": [
    "### 3. Parallelization"
   ]
  },
  {
   "cell_type": "markdown",
   "metadata": {},
   "source": [
    "Parallelize the Monte Carlo calculation."
   ]
  }
 ],
 "metadata": {
  "kernelspec": {
   "display_name": "Julia 0.4.6",
   "language": "julia",
   "name": "julia-0.4"
  },
  "language_info": {
   "file_extension": ".jl",
   "mimetype": "application/julia",
   "name": "julia",
   "version": "0.4.6"
  },
  "widgets": {
   "state": {},
   "version": "1.1.2"
  }
 },
 "nbformat": 4,
 "nbformat_minor": 0
}
