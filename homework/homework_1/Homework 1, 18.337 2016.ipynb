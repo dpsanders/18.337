{
 "cells": [
  {
   "cell_type": "markdown",
   "metadata": {},
   "source": [
    "# Homework 1 for 18.337, September 2016\n",
    "    \n",
    "Due before class on **Wednesday 14 September 2016**.\n",
    "\n",
    "Please submit the homework on Stellar."
   ]
  },
  {
   "cell_type": "markdown",
   "metadata": {},
   "source": [
    "### 1. Absorbing random walk"
   ]
  },
  {
   "cell_type": "markdown",
   "metadata": {},
   "source": [
    "Consider an MIT beaver doing a simple random walk on the positive integers, starting from site $i=2$. We want to find the time it takes to reach an absorbing site at $i=1$ (called the absorption time, first passage time or hitting time). There is a reflecting wall at site $i=L$:"
   ]
  },
  {
   "cell_type": "markdown",
   "metadata": {},
   "source": [
    "<img src=\"simple_rw.png\", width=300>"
   ]
  },
  {
   "cell_type": "markdown",
   "metadata": {},
   "source": [
    "The transition probabilities in the bulk (i.e. away from the boundary) are $p(i+1 \\, | \\, i) = p(i-1 \\, | \\, i) = \\textstyle \\frac{1}{2}$ for $i = 2, 3, \\ldots$. \n",
    "\n",
    "[Here, $p(i \\, | \\, j) = p(j \\to i)$ is the probability to jump in one step from site $i$ to site $j$. We have $\\sum_i \\, p(i \\, | \\, j) = 1$ for every $j$.]\n",
    "\n",
    "We model the absorbing site by saying that the walker cannot leave site $i=1$ once it arrives:  $p(1 \\, | \\, 1) = 1$ and $p(i \\, | \\, 1) = 0$ for $i \\neq 1$.\n",
    "\n",
    "The reflecting site is modelled as $p(L \\, | \\, L) = \\textstyle \\frac{1}{2}$, representing the fact that when jumping to the right from site $L$, it hits a mirror and bounces back to $L$ again."
   ]
  },
  {
   "cell_type": "markdown",
   "metadata": {},
   "source": [
    "(1) Write a simple Monte Carlo simulation in Julia of the beaver's trajectory until Julia hits its goal, e.g. for $L=50$. Calculate the mean time over $N=10^3$, say, realizations of this process. Repeat this calculation $M$ times (say, $M = 10^4$) for the same value of $N$. \n",
    "\n",
    "Draw a histogram of the means. What is its shape?\n",
    "\n",
    "What does your data strongly suggest is the dependence of the means on the size $L$? What does this imply for $L \\to \\infty$? \n",
    "\n",
    "**Optional: Find the analytical solution for the mean hitting time as a function of $L$."
   ]
  },
  {
   "cell_type": "markdown",
   "metadata": {},
   "source": [
    "(2) To understand this behavior, we need to calculate the complete probability distribution of hitting times. Although this can in principle be done using Monte Carlo (try it!), much better (=more precise) results are obtained using \"exact enumeration\", i.e. by solving the master equation describing the stochastic process in a numerically exact way, as follows.\n",
    "\n",
    "Let $P_t(i)$ be the probability that the walker is at site $i$ at time $t$.\n",
    "Find the equations that govern the time evolution of $P_t(i)$, taking care with the absorbing boundary at $i=0$ and the reflecting boundary at $i=L$. A convenient way to model the absorption is that any probability that has arrived at site $i=0$ remains there. The equations are available [here](Evolution equations.ipynb).\n",
    "\n",
    "Use these equations to calculate, using Julia, the time evolution of $P_t(i)$ for all sites $i$ and times $t$ from $0$ to, say, $t_\\mathrm{max} = 1000$. [Note that (standard) arrays are indexed starting at 1, not 0.]\n",
    "There are various ways to do this, including using [array comprehensions](http://docs.julialang.org/en/release-0.4/manual/arrays/#comprehensions), dense matrices and sparse matrices.\n",
    "What to you think will be the most efficient method? Try to implement several different versions.\n",
    "\n",
    "Work out a test case for a few sites by hand and write a [unit test](http://docs.julialang.org/en/release-0.4/stdlib/test/) to make sure that your code is correct.\n",
    "\n",
    "Use the results of this calculation to find the probability distribution of hitting times, i.e. the probability that is absorbed at each time $t$. Plot this for different $L$. Conclude what happens as $L \\to \\infty$. What is the asymptotic behavior of the distribution?"
   ]
  },
  {
   "cell_type": "markdown",
   "metadata": {},
   "source": [
    "### 2. How fast is Julia?"
   ]
  },
  {
   "cell_type": "markdown",
   "metadata": {},
   "source": [
    "(3) Use the [BenchmarkTools.jl](https://github.com/JuliaCI/BenchmarkTools.jl) package to time your code. Make sure to [optimize the code](http://docs.julialang.org/en/release-0.4/manual/performance-tips/) first."
   ]
  },
  {
   "cell_type": "markdown",
   "metadata": {},
   "source": [
    "**Optional: If you are proficient at another language (other than Julia), rewrite the simulation code in the other language, and compare the performance, the ease of coding, and the number of lines of code required  for the two versions."
   ]
  },
  {
   "cell_type": "markdown",
   "metadata": {},
   "source": [
    "### Coming attraction: Parallelization"
   ]
  },
  {
   "cell_type": "markdown",
   "metadata": {},
   "source": [
    "**Optional: Think about parallelization methodologies and how could you parallelize your Monte Carlo and exact enumeration codes with Julia."
   ]
  },
  {
   "cell_type": "markdown",
   "metadata": {},
   "source": [
    "### 18.337 wisdom"
   ]
  },
  {
   "cell_type": "markdown",
   "metadata": {},
   "source": [
    "\"Premature optimization is the root of all evil\". D. Knuth\n",
    "\n",
    "\"Optimize a serial code before you think about parallelizing it.\" "
   ]
  }
 ],
 "metadata": {
  "kernelspec": {
   "display_name": "Julia 0.4.6",
   "language": "julia",
   "name": "julia-0.4"
  },
  "language_info": {
   "file_extension": ".jl",
   "mimetype": "application/julia",
   "name": "julia",
   "version": "0.4.6"
  },
  "widgets": {
   "state": {},
   "version": "1.1.2"
  }
 },
 "nbformat": 4,
 "nbformat_minor": 0
}
