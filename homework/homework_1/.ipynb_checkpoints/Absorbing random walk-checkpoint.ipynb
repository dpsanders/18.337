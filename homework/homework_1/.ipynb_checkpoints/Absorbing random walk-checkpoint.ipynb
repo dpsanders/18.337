{
 "cells": [
  {
   "cell_type": "markdown",
   "metadata": {},
   "source": [
    "Absorbing random walk"
   ]
  },
  {
   "cell_type": "markdown",
   "metadata": {},
   "source": [
    "Global scope:"
   ]
  },
  {
   "cell_type": "code",
   "execution_count": 4,
   "metadata": {
    "collapsed": false
   },
   "outputs": [
    {
     "name": "stdout",
     "output_type": "stream",
     "text": [
      " 10.432508 seconds (153.74 M allocations: 2.291 GB, 1.01% gc time)\n"
     ]
    }
   ],
   "source": [
    "x = 1\n",
    "\n",
    "times = Int64[]\n",
    "\n",
    "@time begin\n",
    "for i in 1:10000\n",
    "    t = 0\n",
    "    x = 1\n",
    "    while x != 0\n",
    "        if rand() < 0.5\n",
    "            x += 1\n",
    "        else\n",
    "            x -= 1\n",
    "        end\n",
    "        \n",
    "        t += 1\n",
    "    end\n",
    "    \n",
    "    push!(times, t)\n",
    "end\n",
    "end"
   ]
  },
  {
   "cell_type": "markdown",
   "metadata": {},
   "source": [
    "Wrap in functions:"
   ]
  },
  {
   "cell_type": "code",
   "execution_count": 6,
   "metadata": {
    "collapsed": false
   },
   "outputs": [
    {
     "data": {
      "text/plain": [
       "run (generic function with 1 method)"
      ]
     },
     "execution_count": 6,
     "metadata": {},
     "output_type": "execute_result"
    }
   ],
   "source": [
    "function walk()\n",
    "    t = 0\n",
    "    x = 1\n",
    "    \n",
    "    while x != 0\n",
    "        if rand() < 0.5\n",
    "            x += 1\n",
    "        else\n",
    "            x -= 1\n",
    "        end\n",
    "        \n",
    "        t += 1\n",
    "    end\n",
    "    \n",
    "    # alternative: x += 2*(rand() < 0.5) - 1\n",
    "    \n",
    "    return t\n",
    "\n",
    "end\n",
    "\n",
    "function run(N)\n",
    "    times = Int64[]\n",
    "    for i in 1:N\n",
    "        push!(times, walk())\n",
    "    end\n",
    "    \n",
    "    return times\n",
    "end\n"
   ]
  },
  {
   "cell_type": "code",
   "execution_count": 7,
   "metadata": {
    "collapsed": false
   },
   "outputs": [
    {
     "data": {
      "text/plain": [
       "10-element Array{Int64,1}:\n",
       "  19\n",
       "  17\n",
       "   1\n",
       "  85\n",
       "   3\n",
       " 965\n",
       "  49\n",
       "  19\n",
       "   1\n",
       "   1"
      ]
     },
     "execution_count": 7,
     "metadata": {},
     "output_type": "execute_result"
    }
   ],
   "source": [
    "run(10)"
   ]
  },
  {
   "cell_type": "code",
   "execution_count": 19,
   "metadata": {
    "collapsed": false
   },
   "outputs": [
    {
     "name": "stdout",
     "output_type": "stream",
     "text": [
      "  0.000056 seconds (11 allocations: 2.422 KB)\n"
     ]
    },
    {
     "data": {
      "text/plain": [
       "51.92"
      ]
     },
     "execution_count": 19,
     "metadata": {},
     "output_type": "execute_result"
    }
   ],
   "source": [
    "times = @time run(100)\n",
    "mean(times)"
   ]
  },
  {
   "cell_type": "markdown",
   "metadata": {},
   "source": [
    "Add boundary:"
   ]
  },
  {
   "cell_type": "code",
   "execution_count": 96,
   "metadata": {
    "collapsed": false
   },
   "outputs": [
    {
     "name": "stderr",
     "output_type": "stream",
     "text": [
      "WARNING: Method definition walk(Any) in module Main at In[95]:2 overwritten at In[96]:2.\n",
      "WARNING: Method definition run(Any, Any) in module Main at In[95]:28 overwritten at In[96]:28.\n"
     ]
    },
    {
     "data": {
      "text/plain": [
       "run (generic function with 2 methods)"
      ]
     },
     "execution_count": 96,
     "metadata": {},
     "output_type": "execute_result"
    }
   ],
   "source": [
    "function walk(L)\n",
    "    t = 0\n",
    "    x = 1\n",
    "    \n",
    "    while x != 0\n",
    "        if rand() < 0.5\n",
    "            x += 1\n",
    "        else\n",
    "            x -= 1\n",
    "        end\n",
    "            \n",
    "        # alternative: x += 2*(rand() < 0.5) - 1\n",
    "\n",
    "        \n",
    "        if x > L \n",
    "            x = L  # bounce back\n",
    "        end\n",
    "        \n",
    "        t += 1\n",
    "    end\n",
    "    \n",
    "    \n",
    "    return t\n",
    "\n",
    "end\n",
    "\n",
    "function run(L, N)\n",
    "    return [walk(L) for i in 1:N]\n",
    "end\n"
   ]
  },
  {
   "cell_type": "code",
   "execution_count": 126,
   "metadata": {
    "collapsed": false
   },
   "outputs": [
    {
     "name": "stdout",
     "output_type": "stream",
     "text": [
      "  0.000204 seconds (7 allocations: 8.125 KB)\n"
     ]
    },
    {
     "data": {
      "text/plain": [
       "20.803"
      ]
     },
     "execution_count": 126,
     "metadata": {},
     "output_type": "execute_result"
    }
   ],
   "source": [
    "@time mean(run(10, 1000))"
   ]
  },
  {
   "cell_type": "code",
   "execution_count": null,
   "metadata": {
    "collapsed": true
   },
   "outputs": [],
   "source": []
  },
  {
   "cell_type": "markdown",
   "metadata": {
    "collapsed": true
   },
   "source": [
    "## Master equation"
   ]
  },
  {
   "cell_type": "code",
   "execution_count": 20,
   "metadata": {
    "collapsed": false
   },
   "outputs": [
    {
     "name": "stderr",
     "output_type": "stream",
     "text": [
      "WARNING: Method definition evolve(Any) in module Main at In[15]:1 overwritten at In[20]:1.\n"
     ]
    },
    {
     "data": {
      "text/plain": [
       "evolve (generic function with 1 method)"
      ]
     },
     "execution_count": 20,
     "metadata": {},
     "output_type": "execute_result"
    }
   ],
   "source": [
    "evolve(p) = (L = length(p);\n",
    "            [p[1] + p[2]/2; p[3]/2; \n",
    "            [ (p[i-1] + p[i+1]) / 2 for i in 3:L-1]; \n",
    "            (p[L-1] + p[L]) / 2]\n",
    "            )"
   ]
  },
  {
   "cell_type": "code",
   "execution_count": 29,
   "metadata": {
    "collapsed": false
   },
   "outputs": [
    {
     "data": {
      "text/plain": [
       "10-element Array{Rational{Int64},1}:\n",
       " 0//1\n",
       " 1//1\n",
       " 0//1\n",
       " 0//1\n",
       " 0//1\n",
       " 0//1\n",
       " 0//1\n",
       " 0//1\n",
       " 0//1\n",
       " 0//1"
      ]
     },
     "execution_count": 29,
     "metadata": {},
     "output_type": "execute_result"
    }
   ],
   "source": [
    "L = 10\n",
    "p = [i == 2 ? 1//1 : 0//1 for i in 1:L]"
   ]
  },
  {
   "cell_type": "code",
   "execution_count": 22,
   "metadata": {
    "collapsed": false
   },
   "outputs": [
    {
     "data": {
      "text/plain": [
       "10-element Array{Rational{Int64},1}:\n",
       " 1//2\n",
       " 0//1\n",
       " 1//2\n",
       " 0//1\n",
       " 0//1\n",
       " 0//1\n",
       " 0//1\n",
       " 0//1\n",
       " 0//1\n",
       " 0//1"
      ]
     },
     "execution_count": 22,
     "metadata": {},
     "output_type": "execute_result"
    }
   ],
   "source": [
    "evolve(p)"
   ]
  },
  {
   "cell_type": "code",
   "execution_count": 23,
   "metadata": {
    "collapsed": false
   },
   "outputs": [
    {
     "data": {
      "text/plain": [
       "10-element Array{Rational{Int64},1}:\n",
       " 1//2\n",
       " 1//4\n",
       " 0//1\n",
       " 1//4\n",
       " 0//1\n",
       " 0//1\n",
       " 0//1\n",
       " 0//1\n",
       " 0//1\n",
       " 0//1"
      ]
     },
     "execution_count": 23,
     "metadata": {},
     "output_type": "execute_result"
    }
   ],
   "source": [
    "evolve(evolve(p))"
   ]
  },
  {
   "cell_type": "code",
   "execution_count": 24,
   "metadata": {
    "collapsed": false
   },
   "outputs": [
    {
     "data": {
      "text/plain": [
       "10-element Array{Rational{Int64},1}:\n",
       " 5//8\n",
       " 0//1\n",
       " 1//4\n",
       " 0//1\n",
       " 1//8\n",
       " 0//1\n",
       " 0//1\n",
       " 0//1\n",
       " 0//1\n",
       " 0//1"
      ]
     },
     "execution_count": 24,
     "metadata": {},
     "output_type": "execute_result"
    }
   ],
   "source": [
    "evolve(evolve(evolve(p)))"
   ]
  },
  {
   "cell_type": "markdown",
   "metadata": {},
   "source": [
    "## Towards more efficiency\n",
    "\n",
    "And more readable:"
   ]
  },
  {
   "cell_type": "code",
   "execution_count": 27,
   "metadata": {
    "collapsed": false
   },
   "outputs": [
    {
     "data": {
      "text/plain": [
       "evolve2 (generic function with 1 method)"
      ]
     },
     "execution_count": 27,
     "metadata": {},
     "output_type": "execute_result"
    }
   ],
   "source": [
    "function evolve2(p)\n",
    "    p_new = zeros(p)\n",
    "    \n",
    "    p_new[1] = p[1] + p[2]/2\n",
    "    p_new[2] = p[3] / 2\n",
    "    \n",
    "    for i in 3:L-1\n",
    "        p_new = (p[i-1] + p[i+1]) / 2 \n",
    "    end\n",
    "    \n",
    "    p_new[L] = (p[L-1] + p[L]) / 2\n",
    "end"
   ]
  },
  {
   "cell_type": "markdown",
   "metadata": {},
   "source": [
    "Most efficient: Pre-allocate so remove memory allocation at each step:"
   ]
  },
  {
   "cell_type": "code",
   "execution_count": 31,
   "metadata": {
    "collapsed": false
   },
   "outputs": [
    {
     "name": "stderr",
     "output_type": "stream",
     "text": [
      "WARNING: Method definition evolve2(Any, Any) in module Main at In[28]:3 overwritten at In[31]:3.\n"
     ]
    },
    {
     "data": {
      "text/plain": [
       "evolve2 (generic function with 2 methods)"
      ]
     },
     "execution_count": 31,
     "metadata": {},
     "output_type": "execute_result"
    }
   ],
   "source": [
    "function evolve2(p, p_new)\n",
    "    \n",
    "    p_new[1] = p[1] + p[2]/2\n",
    "    p_new[2] = p[3] / 2\n",
    "    \n",
    "    for i in 3:L-1\n",
    "        p_new[i] = (p[i-1] + p[i+1]) / 2 \n",
    "    end\n",
    "    \n",
    "    p_new[L] = (p[L-1] + p[L]) / 2\n",
    "end"
   ]
  },
  {
   "cell_type": "code",
   "execution_count": 34,
   "metadata": {
    "collapsed": false
   },
   "outputs": [
    {
     "data": {
      "text/plain": [
       "([0.5,0.0,0.5,0.0,0.0,0.0,0.0,0.0,0.0,0.0],[0.0,1.0,0.0,0.0,0.0,0.0,0.0,0.0,0.0,0.0])"
      ]
     },
     "execution_count": 34,
     "metadata": {},
     "output_type": "execute_result"
    }
   ],
   "source": [
    "L = 10\n",
    "p = zeros(L); p[2] = 1.0\n",
    "p_new = zeros(L)\n",
    "\n",
    "evolve2(p, p_new)\n",
    "p, p_new = p_new, p   # swap"
   ]
  },
  {
   "cell_type": "code",
   "execution_count": 35,
   "metadata": {
    "collapsed": false
   },
   "outputs": [
    {
     "data": {
      "text/plain": [
       "10-element Array{Float64,1}:\n",
       " 0.5\n",
       " 0.0\n",
       " 0.5\n",
       " 0.0\n",
       " 0.0\n",
       " 0.0\n",
       " 0.0\n",
       " 0.0\n",
       " 0.0\n",
       " 0.0"
      ]
     },
     "execution_count": 35,
     "metadata": {},
     "output_type": "execute_result"
    }
   ],
   "source": [
    "p"
   ]
  },
  {
   "cell_type": "code",
   "execution_count": 38,
   "metadata": {
    "collapsed": false
   },
   "outputs": [
    {
     "data": {
      "text/plain": [
       "([0.625,0.0,0.25,0.0,0.125,0.0,0.0,0.0,0.0,0.0],[0.5,0.25,0.0,0.25,0.0,0.0,0.0,0.0,0.0,0.0])"
      ]
     },
     "execution_count": 38,
     "metadata": {},
     "output_type": "execute_result"
    }
   ],
   "source": [
    "evolve2(p, p_new)\n",
    "p, p_new = p_new, p   # swap"
   ]
  },
  {
   "cell_type": "code",
   "execution_count": 39,
   "metadata": {
    "collapsed": false
   },
   "outputs": [
    {
     "data": {
      "text/plain": [
       "([0.625,0.125,0.0,0.1875,0.0,0.0625,0.0,0.0,0.0,0.0],[0.625,0.0,0.25,0.0,0.125,0.0,0.0,0.0,0.0,0.0])"
      ]
     },
     "execution_count": 39,
     "metadata": {},
     "output_type": "execute_result"
    }
   ],
   "source": [
    "evolve2(p, p_new)\n",
    "p, p_new = p_new, p   # swap"
   ]
  },
  {
   "cell_type": "code",
   "execution_count": 40,
   "metadata": {
    "collapsed": false
   },
   "outputs": [
    {
     "data": {
      "text/plain": [
       "([0.6875,0.0,0.15625,0.0,0.125,0.0,0.03125,0.0,0.0,0.0],[0.625,0.125,0.0,0.1875,0.0,0.0625,0.0,0.0,0.0,0.0])"
      ]
     },
     "execution_count": 40,
     "metadata": {},
     "output_type": "execute_result"
    }
   ],
   "source": [
    "evolve2(p, p_new)\n",
    "p, p_new = p_new, p   # swap"
   ]
  },
  {
   "cell_type": "code",
   "execution_count": null,
   "metadata": {
    "collapsed": true
   },
   "outputs": [],
   "source": []
  }
 ],
 "metadata": {
  "kernelspec": {
   "display_name": "Julia 0.5.0-rc3",
   "language": "julia",
   "name": "julia-0.5"
  },
  "language_info": {
   "file_extension": ".jl",
   "mimetype": "application/julia",
   "name": "julia",
   "version": "0.5.0"
  },
  "widgets": {
   "state": {},
   "version": "1.1.2"
  }
 },
 "nbformat": 4,
 "nbformat_minor": 0
}
