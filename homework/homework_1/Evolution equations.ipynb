{
 "cells": [
  {
   "cell_type": "markdown",
   "metadata": {},
   "source": [
    "Master equation (i.e. evolution equation for the probability distribution) of a random walker on the integers with absorbing boundary at $x=0$ and reflecting boundary at $x=L$:"
   ]
  },
  {
   "cell_type": "markdown",
   "metadata": {},
   "source": [
    "Initial condition:"
   ]
  },
  {
   "cell_type": "markdown",
   "metadata": {},
   "source": [
    "$$P_0(i) = \\delta_{i, 1} = \\begin{cases} 1, \\quad \\text{ if } i = 1 \\\\\n",
    "    0, \\quad \\text {otherwise}\n",
    "    \\end{cases}$$"
   ]
  },
  {
   "cell_type": "markdown",
   "metadata": {},
   "source": [
    "Evolution in \"bulk\", i.e. away from boundaries:\n",
    "\n",
    "$$P_{t+1}(i) = P_t(i-1) + P_t(i+1)$$"
   ]
  },
  {
   "cell_type": "markdown",
   "metadata": {},
   "source": [
    "Absorbing boundary:"
   ]
  },
  {
   "cell_type": "markdown",
   "metadata": {},
   "source": [
    "$$P_{t+1}(0) = P_{t}(0) + \\textstyle \\frac{1}{2} P_{t}(1)$$\n",
    "$$P_{t+1}(1) = \\textstyle \\frac{1}{2} P_{t}(2)$$"
   ]
  },
  {
   "cell_type": "markdown",
   "metadata": {},
   "source": [
    "Reflecting boundary:"
   ]
  },
  {
   "cell_type": "markdown",
   "metadata": {},
   "source": [
    "$$P_{t+1}(L) = \\textstyle \\frac{1}{2} P_{t}(L-1) + \\textstyle \\frac{1}{2} P_{t}(L) $$"
   ]
  }
 ],
 "metadata": {
  "kernelspec": {
   "display_name": "Julia 0.4.6",
   "language": "julia",
   "name": "julia-0.4"
  },
  "language_info": {
   "file_extension": ".jl",
   "mimetype": "application/julia",
   "name": "julia",
   "version": "0.4.6"
  },
  "widgets": {
   "state": {},
   "version": "1.1.2"
  }
 },
 "nbformat": 4,
 "nbformat_minor": 0
}
