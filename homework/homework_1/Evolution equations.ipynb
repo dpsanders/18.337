{
 "cells": [
  {
   "cell_type": "markdown",
   "metadata": {},
   "source": [
    "# Master equation "
   ]
  },
  {
   "cell_type": "markdown",
   "metadata": {},
   "source": [
    "Let $P_t(i)$ be the probability of a random walker being at site $i$ at time $t$.\n",
    "\n",
    "The master equation, i.e. the evolution equation for the probability distribution, is\n",
    "\n",
    "$$P_{t+1}(i) = \\sum_j P_{t}(j) \\, p(i \\, | \\, j).$$\n",
    "\n",
    "For a simple random walk, this gives, in the bulk (i.e. away from the boundaries):\n",
    "\n",
    "$$P_{t+1}(i) = \\textstyle \\frac{1}{2} \\left[ P_t(i-1) + P_t(i+1) \\right] $$"
   ]
  },
  {
   "cell_type": "markdown",
   "metadata": {},
   "source": [
    "The initial probability distribution is"
   ]
  },
  {
   "cell_type": "markdown",
   "metadata": {},
   "source": [
    "$$P_0(i) = \\delta_{i, 1} = \\begin{cases} 1, \\quad \\text{ if } i = 1 \\\\\n",
    "    0, \\quad \\text {otherwise}\n",
    "    \\end{cases}$$"
   ]
  },
  {
   "cell_type": "markdown",
   "metadata": {},
   "source": [
    "The absorbing boundary at site $i=0$ gives"
   ]
  },
  {
   "cell_type": "markdown",
   "metadata": {},
   "source": [
    "$$P_{t+1}(0) = P_{t}(0) + \\textstyle \\frac{1}{2} P_{t}(1)$$\n",
    "$$P_{t+1}(1) = \\textstyle \\frac{1}{2} P_{t}(2)$$"
   ]
  },
  {
   "cell_type": "markdown",
   "metadata": {},
   "source": [
    "The reflecting boundary at site $i=L$ implies"
   ]
  },
  {
   "cell_type": "markdown",
   "metadata": {},
   "source": [
    "$$P_{t+1}(L) = \\textstyle \\frac{1}{2} P_{t}(L-1) + \\textstyle \\frac{1}{2} P_{t}(L) $$"
   ]
  }
 ],
 "metadata": {
  "kernelspec": {
   "display_name": "Julia 0.4.6",
   "language": "julia",
   "name": "julia-0.4"
  },
  "language_info": {
   "file_extension": ".jl",
   "mimetype": "application/julia",
   "name": "julia",
   "version": "0.4.6"
  },
  "widgets": {
   "state": {},
   "version": "1.1.2"
  }
 },
 "nbformat": 4,
 "nbformat_minor": 0
}
